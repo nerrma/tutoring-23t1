{
 "cells": [
  {
   "cell_type": "markdown",
   "metadata": {},
   "source": [
    "# Linear Regression, the LASSO and Ridge"
   ]
  },
  {
   "cell_type": "markdown",
   "metadata": {
    "collapsed": true
   },
   "source": [
    "Last revision: Thu 2 June 2022 2:32:00 AEST"
   ]
  },
  {
   "cell_type": "markdown",
   "metadata": {},
   "source": [
    "Author: Omar Ghattas"
   ]
  },
  {
   "cell_type": "code",
   "execution_count": 3,
   "metadata": {},
   "outputs": [],
   "source": [
    "import numpy\n",
    "import matplotlib.pyplot as plt"
   ]
  },
  {
   "cell_type": "markdown",
   "metadata": {},
   "source": [
    "$\\hat{w} = (X^T X)^{-1} X^T y$"
   ]
  },
  {
   "cell_type": "code",
   "execution_count": 13,
   "metadata": {},
   "outputs": [
    {
     "data": {
      "text/plain": [
       "[<matplotlib.lines.Line2D at 0x7fb085f52010>]"
      ]
     },
     "execution_count": 13,
     "metadata": {},
     "output_type": "execute_result"
    },
    {
     "data": {
      "image/png": "[encoded data removed]",
      "text/plain": [
       "<Figure size 640x480 with 1 Axes>"
      ]
     },
     "metadata": {},
     "output_type": "display_data"
    }
   ],
   "source": [
    "X = [3, 6, 7, 8, 11]\n",
    "y = [13, 8, 11, 2, 6]\n",
    "\n",
    "plt.scatter(X, y)\n",
    "\n",
    "X = np.stack((X, np.ones(len(X))), axis=1)\n",
    "\n",
    "w_hat = np.linalg.inv(X.T @ X) @ X.T @ y\n",
    "plt.plot(X[:, 0], X @ w_hat, c='red')"
   ]
  },
  {
   "cell_type": "markdown",
   "metadata": {},
   "source": [
    "## Introduction"
   ]
  },
  {
   "cell_type": "markdown",
   "metadata": {},
   "source": [
    "In this lab we will explore linear models in more depth, specifically:\n",
    "\n",
    "1. Linear regression and how to run a linear regression model in the Python library `scikit-klearn`, also commonly referred to as `sklearn`. The focus here will be on practical aspects of the modelling, and you should look at the tutorial this week to understand what is going on under the hood. It is important for you to understand both the theory and pratical side of the concepts we cover throughout the course.\n",
    "\n",
    "2. Regularized linear models, namely the LASSO and Ridge models. \n",
    "\n",
    "**Note: this notebook has only been tested using Python 3.**"
   ]
  },
  {
   "cell_type": "markdown",
   "metadata": {},
   "source": [
    "#### What is `sklearn` ?\n",
    "Throughout this course, we will be relying heavily on the `sklearn` module which contains implementations of many of the algorithms that will be covered. The following links to a summary of the different types of algorithms available, you will likely need to make use of all of them at some point in the course:\n",
    "\n",
    "https://scikit-learn.org/stable/\n",
    "\n",
    "Here is a short summary of what the different sections mean:\n",
    "\n",
    "1. Classification: contains implementations of classification models such as SVM and Naive Bayes. Classification refers to the case where we have access to data of the form $(x_i, c_i)$, where $x_i$ is a collection of features, and $c_i$ is a class label. For example, in an image classification task, we might have access to images of cats and dogs, and wish to build a classifier that takes as input $x_i$ (a collection of pixels), and predicts the correct class label (0 for cat, 1 for dog). Importantly, the class label is always one of a discrete number of possible choices.\n",
    "\n",
    "2. Regression: Similar to classification, except that now we have data $(x_i, y_i)$ and $y_i$ is a continuous value. For example, $x_i$ could represent information about a patient (e.g. age, weight, height, blood pressure) and $y_i$ could represent the patients chance of recovering from a particular surgery.\n",
    "\n",
    "3. Clustering: Both 1. and 2. are examples of supervised learning, since we have access to a label ($c_i$) or target value $(y_i)$. In many cases of interest, we do not have access to a label, we only have access to $x_i$. For example, you have access to 100,000 machine-readable texts. You would like to understand which of the texts are 'similar'. In this case you might employ a clustering algorithm to group similiar texts into the same clusters. If your clustering algorithm is successful, your clusters might correspond to texts written by the same author, or texts of the same genre, etc.\n",
    "\n",
    "4. Dimensionality reduction: Often the $x_i$ in categories of 1., 2., 3. can be massive. For example, an 3.1 megapixel image is 2048 pixels in width, and 1536 pixels in height, and can be represented as a matrix of pixel values:\n",
    "\n",
    "$$\n",
    "x_i = \\begin{bmatrix}\n",
    "p_{1,1}&p_{1,2} &p_{1,3} & \\cdots p_{1,2048}\\\\\n",
    "p_{2,1}&p_{2,2} &p_{2,3} & \\cdots p_{2,2048}\\\\\n",
    "\\vdots&\\vdots &\\vdots & \\cdots \\vdots\\\\\n",
    "p_{1536,1}&p_{1536,2} &p_{1536,3} & \\cdots p_{1536,2048}\\\\\n",
    "\\end{bmatrix}\n",
    "$$\n",
    "\n",
    "where each element represents the brightness of that particular portion of the image. Note that we therefore have a total of ~3.1 million pixels. In many cases, we don't really believe that we need this many pixels to understand what is contained in the image, and more importantly, it is often difficult to run a machine learning algorithm on such a high dimensional problem in a reasonable amount of time. For example, an image of a dog can be identified by noting that the image contains pointy ears, a tail, and a black nose, and this information might be contained in a collection of 10,000 pixels. It is therefore important to understand how one might reduce an input $x_i \\in \\mathbb{R}^p$ to some lower dimensional $z_i \\in \\mathbb{R}^k$, where $k \\ll p$, and where $z_i$ retains much of the information contained in $x_i$. This is what the algorithms in this sub-module do.\n",
    "\n",
    "5. Model Selection: it is important to not only know how to build a model, but also be able to pick the best model out of a collection of models. This sub-module contains algorithms to do just that. It also contains important functions that allow us to perform cross validation to choose hyperparameters, something that will be important to us in future weeks (and for the final project).\n",
    "\n",
    "6. Preprocessing: Before running a machine learning algorithm, we usually need to perform a fair amount of preprocessing to the original data before. For example, we might wish to scale our feature vectors to be in the range [0,1], or we might want to handle missing data, or generate new features.\n",
    "\n",
    "You are encouraged to refer to this link regularly. In this lab, we will focus on linear regression, which is contained in the Regression section:\n",
    "\n",
    "https://scikit-learn.org/stable/supervised_learning.html#supervised-learning"
   ]
  },
  {
   "cell_type": "markdown",
   "metadata": {},
   "source": [
    "#### Linear Models in `sklearn`\n",
    "\n",
    "In the following, we will:\n",
    "\n",
    "1. use `sklearn` to create a toy dataset with a specified number of samples ($n$) and features ($p$)\n",
    "2. split the data into train and test sets\n",
    "3. fit a linear regression model, a LASSO model, and a ridge model to the training data. For reference, recall that the three models solve the following different objectives:\n",
    "- linear model: $\\hat{\\beta} = \\arg \\min_{\\beta} \\frac{1}{n}\\|y-X \\beta\\|^2_2$\n",
    "- LASSO model: $\\hat{\\beta}_{\\text{LASSO}} = \\arg \\min_{\\beta} \\frac{1}{n}\\|y-X \\beta\\|^2_2 + \\lambda \\| \\beta \\|_1$\n",
    "- Ridge model: $\\hat{\\beta}_{\\text{Ridge}} = \\arg \\min_{\\beta} \\frac{1}{n}\\|y-X \\beta\\|^2_2 + \\alpha \\| \\beta \\|_2^2$\n",
    "4. Evaluate each of the models on the test data and compare them using various metrics\n",
    "\n",
    "The MSE term is a `data-fit' term, which measures how well the model fits the data by looking at the distance of the true $y$ values to the predicted values $\\hat{y} = X\\beta$, and the second term (in LASSO and ridge) is a penalty term that increases as the length of the solution increases. Length is a proxy for the complexity of the model, and so we can think of this term as preferring simpler models to more complex ones. LASSO and Ridge therefore represent a trade-off: on the one hand they would like to get a perfect fit and reduce the first term to zero, but this can only really be done with very complex models that will lead the penalty term to become very large. Note also that $\\alpha$ and $\\lambda$ are known as hyper-parameters, whereas we generally refer to $\\beta$ as the unknown parameter, or weights of the model.\n",
    "\n",
    "Throughout, pay close attention to which sub-modules are being used, and check out the `sklearn` documentation which is often an excellent reference. Also note that we are fitting the most basic form of each model, and you should dig deeper to understand the different arguments available."
   ]
  },
  {
   "cell_type": "code",
   "execution_count": 5,
   "metadata": {},
   "outputs": [],
   "source": [
    "from sklearn.linear_model import LinearRegression, Lasso, Ridge\n",
    "from sklearn.datasets import make_regression\n",
    "from sklearn.model_selection import train_test_split\n",
    "from sklearn.metrics import mean_squared_error, mean_absolute_error \n",
    "\n",
    "import numpy as np\n",
    "import matplotlib.pyplot as plt"
   ]
  },
  {
   "cell_type": "code",
   "execution_count": 6,
   "metadata": {},
   "outputs": [],
   "source": [
    "# set a random seed for reproducibility\n",
    "rs = np.random.RandomState(123)\n",
    "\n",
    "# create a dataset of X, y pairs\n",
    "n = 1000                   # number of samples\n",
    "p = 10                     # number of features\n",
    "noise = 0.4                # add noise to the data\n",
    "nmb_informative=p//2       # how many of the p feature are actually useful for prediction\n",
    "X, y = make_regression(n, p, \n",
    "                       noise=noise, \n",
    "                       n_informative=nmb_informative, \n",
    "                       random_state=rs)\n",
    "\n",
    "# split into training data and test data\n",
    "train_prop = 0.7           # proportion of data in train\n",
    "X_train, X_test, y_train, y_test = train_test_split(X, y, random_state=rs)\n",
    "\n",
    "# fit models to train data\n",
    "m_linearReg = LinearRegression().fit(X_train, y_train)\n",
    "m_lasso = Lasso().fit(X_train, y_train)\n",
    "m_ridge = Ridge().fit(X_train, y_train)\n",
    "\n",
    "# compute predictions of each model on the train data\n",
    "ypred_train_linearReg = m_linearReg.predict(X_train)\n",
    "ypred_train_lasso = m_lasso.predict(X_train)\n",
    "ypred_train_ridge = m_ridge.predict(X_train)\n",
    "\n",
    "# compute predictions of each model on the test data\n",
    "ypred_test_linearReg = m_linearReg.predict(X_test)\n",
    "ypred_test_lasso = m_lasso.predict(X_test)\n",
    "ypred_test_ridge = m_ridge.predict(X_test)"
   ]
  },
  {
   "cell_type": "markdown",
   "metadata": {},
   "source": [
    "Note that the `sklearn` implementations all have the same methods, so understanding how the `linearRegression` implementation works means you pretty much understand how any other regression algorithm in `sklearn` works too. \n",
    "\n",
    "Now, we have fit various models, and wish to evaluate them. We can use a pandas dataframe to make this look nice:"
   ]
  },
  {
   "cell_type": "code",
   "execution_count": 7,
   "metadata": {},
   "outputs": [
    {
     "ename": "ModuleNotFoundError",
     "evalue": "No module named 'pandas'",
     "output_type": "error",
     "traceback": [
      "\u001b[0;31m---------------------------------------------------------------------------\u001b[0m",
      "\u001b[0;31mModuleNotFoundError\u001b[0m                       Traceback (most recent call last)",
      "Cell \u001b[0;32mIn[7], line 1\u001b[0m\n\u001b[0;32m----> 1\u001b[0m \u001b[38;5;28;01mimport\u001b[39;00m \u001b[38;5;21;01mpandas\u001b[39;00m \u001b[38;5;28;01mas\u001b[39;00m \u001b[38;5;21;01mpd\u001b[39;00m\n\u001b[1;32m      3\u001b[0m \u001b[38;5;66;03m# first compute metrics and store them in array\u001b[39;00m\n\u001b[1;32m      4\u001b[0m loss_data \u001b[38;5;241m=\u001b[39m [\n\u001b[1;32m      5\u001b[0m     [\u001b[38;5;124m'\u001b[39m\u001b[38;5;124mlinear regression\u001b[39m\u001b[38;5;124m'\u001b[39m, \n\u001b[1;32m      6\u001b[0m      mean_squared_error(y_train, ypred_train_linearReg), \n\u001b[0;32m   (...)\u001b[0m\n\u001b[1;32m     22\u001b[0m     ]\n\u001b[1;32m     23\u001b[0m ]\n",
      "\u001b[0;31mModuleNotFoundError\u001b[0m: No module named 'pandas'"
     ]
    }
   ],
   "source": [
    "import pandas as pd\n",
    "\n",
    "# first compute metrics and store them in array\n",
    "loss_data = [\n",
    "    ['linear regression', \n",
    "     mean_squared_error(y_train, ypred_train_linearReg), \n",
    "     mean_squared_error(y_test, ypred_test_linearReg), \n",
    "     mean_absolute_error(y_train, ypred_train_linearReg), \n",
    "     mean_absolute_error(y_test, ypred_test_linearReg)\n",
    "    ],\n",
    "    ['lasso', \n",
    "     mean_squared_error(y_train, ypred_train_lasso), \n",
    "     mean_squared_error(y_test, ypred_test_lasso),\n",
    "     mean_absolute_error(y_train, ypred_train_lasso), \n",
    "     mean_absolute_error(y_test, ypred_test_lasso)\n",
    "    ],\n",
    "    ['ridge', \n",
    "     mean_squared_error(y_train, ypred_train_ridge), \n",
    "     mean_squared_error(y_test, ypred_test_ridge),\n",
    "     mean_absolute_error(y_train, ypred_train_ridge), \n",
    "     mean_absolute_error(y_test, ypred_test_ridge)\n",
    "    ]\n",
    "]\n",
    "\n",
    "# create a pandas dataframe and feed it the array and naming the columns\n",
    "loss_df = pd.DataFrame(loss_data, \n",
    "                       columns=['Model', 'train MSE', 'test MSE', 'train MAE', 'test MAE'])\n",
    "print(loss_df)"
   ]
  },
  {
   "cell_type": "markdown",
   "metadata": {},
   "source": [
    " <font color='purple'>\n",
    "\n",
    "#### Exercise:\n",
    "    \n",
    "Can you think of a good reason why the lasso performs so poorly in this scenario? Hint: hyperparameters"
   ]
  },
  {
   "cell_type": "markdown",
   "metadata": {},
   "source": [
    "One way to (algorithmically) choose a better $\\lambda$ is to perform cross validation, which we will explore in more depth a little later in the lab. For now, we note that sklearn has an in built object that does LASSO regression that automatically performs cross validation for the choice of $\\lambda$, called `LassoCV` - note that there is also a `RidgeCV` object available. Choosing $\\lambda$ properly should make a big difference in our results. We use it as follows:"
   ]
  },
  {
   "cell_type": "code",
   "execution_count": null,
   "metadata": {},
   "outputs": [],
   "source": [
    "from sklearn.linear_model import LassoCV\n",
    "\n",
    "m_lassoCV = LassoCV().fit(X_train, y_train)                 # automatically perform CV for choice of lambda\n",
    "ypred_train_lassoCV = m_lassoCV.predict(X_train)\n",
    "ypred_test_lassoCV = m_lassoCV.predict(X_test)\n",
    "\n",
    "# add row to loss_df\n",
    "lassoCV_row = {'Model': 'lasso CV', \n",
    "               'train MSE': mean_squared_error(y_train, ypred_train_lassoCV), \n",
    "               'test MSE': mean_squared_error(y_test, ypred_test_lassoCV),\n",
    "               'train MAE': mean_absolute_error(y_train, ypred_train_lassoCV), \n",
    "               'test MAE' :mean_absolute_error(y_test, ypred_test_lassoCV)}\n",
    "\n",
    "loss_df.append(lassoCV_row, ignore_index=True)"
   ]
  },
  {
   "cell_type": "markdown",
   "metadata": {},
   "source": [
    "Let's take a minute to inspect our fitted linear model object. Recall that a linear model just minimizes an objective:\n",
    "$$\n",
    "\\hat{\\beta} = \\arg \\min_{\\beta} = \\frac{1}{n} \\| y-X\\beta\\|^2_2\n",
    "$$\n",
    "If we want to access the estimate computed, i.e. the value of $\\hat{\\beta}$, we can do so by running\n",
    "\n",
    "\n",
    "- $\\hat{\\beta}_0 \\leftrightarrow$ `m_linearReg.intercept_`\n",
    "- $[\\hat{\\beta}_1, \\hat{\\beta}_2, \\dots, \\hat{\\beta}_p ] \\leftrightarrow$ `m_linearReg.coef_`\n"
   ]
  },
  {
   "cell_type": "markdown",
   "metadata": {},
   "source": [
    "### What's in a feature?\n",
    "In this section, let's investigate how choosing the wrong features can impact the performance of our model. We will work with a single feature in this case. We will specify a \"true\" function $f(x)=x^2$, and then create a `data generating process' which will let us sample noisy observations from $f$. We do this by sampling:\n",
    "\n",
    "$$\n",
    "y = f(x) + \\epsilon, \\qquad \\epsilon \\sim N(0, \\sigma^2).\n",
    "$$\n",
    "\n",
    "In other words, each observation $y$ in our dataset is $f$ evaluated at the point $x$, plus some random Gaussian noise. We will first generate $n$ data points in this way, and then try to fit a model to the resulting dataset. We will fit two models:\n",
    "\n",
    "1. bad model: $\\hat{y} = b_0 + b_1 x$\n",
    "1. good model: $\\tilde{y} = w_0 + w_1 x^2$\n",
    "\n",
    "We call the first model a bad model since we know that the true underlying function is the square function, but we are only including $x$ in our model. The second model is the good model because it uses the correct feature. We will work with a single feature so that we can easily visualise the different model fits."
   ]
  },
  {
   "cell_type": "code",
   "execution_count": null,
   "metadata": {},
   "outputs": [],
   "source": [
    "n = 40\n",
    "X = np.random.uniform(-1, 1, size=(n,1))          # generate 100 points uniformly on [-1,1] and shape into column\n",
    "noise = np.random.normal(0, 0.2, size=(n,1))      # generate 100 noise variables with sigma=0.2\n",
    "f = lambda x: x**2                                # true function f(x) = x^2\n",
    "y = f(X) + noise                                  # noisy observations\n",
    "\n",
    "bad_mod = LinearRegression().fit(X, y)\n",
    "good_mod = LinearRegression().fit(np.concatenate((X,X**2), axis=1), y)"
   ]
  },
  {
   "cell_type": "code",
   "execution_count": null,
   "metadata": {},
   "outputs": [],
   "source": [
    "# visualization code - see intro lab for more details on plotting\n",
    "\n",
    "fig, (ax1, ax2) = plt.subplots(1, 2, figsize=(14,5))\n",
    "xrange = np.linspace(-1,1,1000)\n",
    "\n",
    "# first axis\n",
    "ax1.plot(xrange, f(xrange), color='blue', label='truth')\n",
    "ax1.scatter(X, y, color='orange', label='noisy samples')\n",
    "\n",
    "# create function for bad_mod\n",
    "bad_lr = lambda x: bad_mod.intercept_[0] + bad_mod.coef_[0][0]*x\n",
    "\n",
    "ax1.plot(xrange, bad_lr(xrange), color='green', label='bad_mod')\n",
    "ax1.legend()\n",
    "ax1.set_title(\"bad model, $\\hat{y} = b_0 + b_1 x$\")\n",
    "\n",
    "# second axis\n",
    "ax2.plot(xrange, f(xrange), color='blue', label='truth')\n",
    "ax2.scatter(X, y, color='orange', label='noisy samples')\n",
    "# create function for good_mod\n",
    "good_lr = lambda x: good_mod.intercept_[0] + good_mod.coef_[0][0]*x + good_mod.coef_[0][1]*x**2\n",
    "ax2.plot(xrange, good_lr(xrange), color='green', label='good_mod')\n",
    "ax2.legend()\n",
    "ax2.set_title(\"good model, $\\\\tilde{y} = w_0 + w_1 x^2$\")\n",
    "\n",
    "plt.show()"
   ]
  },
  {
   "cell_type": "markdown",
   "metadata": {},
   "source": [
    "From the above exercise, we can see that it is absolutely crucial to think about what features to include in your model.\n",
    "\n",
    " <font color='purple'>\n",
    "\n",
    "#### Exercise:\n",
    "    \n",
    "Repeat the above experiment with a different true function, plot the results and compute the MSE between the bad and good models"
   ]
  },
  {
   "cell_type": "markdown",
   "metadata": {},
   "source": [
    "### Exploring a real dataset\n",
    "We now look at a real-life dataset contained in `life_expectancy.csv` and introduce some techniques for data exploration. Data exploration is important for identifying both model and possible features to include in your model. In the previous example, we knew exactly what the 'true' model was, but in reality we only have access to the data and must somehow use this data to learn a good estimate of the truth. The following is a rough guide for what should be done with real data and you should expand on these techniques throughout the course (especially in your group projects).\n",
    "\n",
    "Data summary: the 9 features in the dataset represent Infant deaths, Alcohol, Percentage expenditure, Hepatitis B, Measles, BMI, Total expenditure, Population and Schooling. The target of interest is Life expectancy. There are a total of 500 records.\n",
    "\n",
    "Let's read in the data and generate a few exploratory plots. Usually we are looking to understand:\n",
    "\n",
    "1. The distribution of the target variable and the explanatory variables (the features)\n",
    "2. Are there any noticeable outliers?\n",
    "3. What is the relationship between the target variable and the features? If it is linear, then a linear model is a good choice for example.\n",
    "\n",
    "This process is usually called the 'Exploratory Data Analysis (EDA)' stage. We will plot using the `seabord` module which produces some nice plots easily when working with pandas dataframes, but all of these plots can be created using matplotlib of course."
   ]
  },
  {
   "cell_type": "code",
   "execution_count": null,
   "metadata": {},
   "outputs": [],
   "source": [
    "import seaborn as sns\n",
    "le_df = pd.read_csv(\"life_expectancy.csv\")         # loading in data using pandas"
   ]
  },
  {
   "cell_type": "code",
   "execution_count": null,
   "metadata": {},
   "outputs": [],
   "source": [
    "sns.boxplot(x=le_df['Life expectancy'])            # inspecting distribution of target variable using a boxplot\n",
    "plt.show()"
   ]
  },
  {
   "cell_type": "markdown",
   "metadata": {},
   "source": [
    "Next, we look at the correlations between the target variable (Life expectancy) and the other variables. If features are highly correlated (either positively or ngetaively) then they should be good additions to the model. Note however that these correlations only capture linear correlations, and it is possible for two variables to be related even if their correlation is zero. See here for some nice examples:\n",
    "\n",
    "https://blog.revolutionanalytics.com/2017/05/the-datasaurus-dozen.html\n",
    "\n",
    "Note that a correlation matrix is symmetric, so elements above the diagonal are identical to those below the diagonal. For this reason we only need to view the lower triangular portion of the matrix."
   ]
  },
  {
   "cell_type": "code",
   "execution_count": null,
   "metadata": {},
   "outputs": [],
   "source": [
    "corr_mat = le_df.corr()                               # compute the correlation matrix\n",
    "\n",
    "mask = np.zeros_like(corr_mat, dtype=bool)            # mask out upper triangle (correlation matrices are symmetric)\n",
    "mask[np.triu_indices_from(mask)] = True\n",
    "\n",
    "\n",
    "f, ax = plt.subplots(figsize=(11, 9))\n",
    "cmap = sns.diverging_palette(220, 10, as_cmap=True)   # generate custom colormap\n",
    "sns.heatmap(corr_mat, mask=mask, cmap=cmap, vmax=.3, center=0,\n",
    "            square=True, linewidths=.5, cbar_kws={\"shrink\": .5})\n",
    "\n",
    "plt.show()"
   ]
  },
  {
   "cell_type": "markdown",
   "metadata": {},
   "source": [
    "Another important type of plot is the pair plot, which plots a scatter of each variable against every other variable. Note that the diagonals contain histograms of each variable. We usually want to look for variables that seem to be related based on their scatters."
   ]
  },
  {
   "cell_type": "code",
   "execution_count": null,
   "metadata": {},
   "outputs": [],
   "source": [
    "sns.pairplot(le_df)\n",
    "plt.show()"
   ]
  },
  {
   "cell_type": "markdown",
   "metadata": {},
   "source": [
    " <font color='purple'>\n",
    "\n",
    "#### Extended Exercise: LASSO vs. Ridge\n",
    "In this exercise, we will explore the differences between LASSO and Ridge regression models, and we will take a deep look at cross validation and how it works for choosing hyper-parameters for these models. You need to do the following:\n",
    "\n",
    "Q1. Consider the dataset: `data.csv`, with response $Y$ and features $X_1,\\dots, X_8$. Create a pairs plot to study the correlations between the features. Describe what you see and how this might affect a linear regression model.\n",
    "\n",
    "Q2. In order for LASSO and Ridge to be run properly, we often rescale the features in the dataset. Explain Why. Then, use the `sklearn.preprocessing.StandardScaler` function to scale your features. Print out the mean and variance of each of the 8 features (after they have been scaled).\n",
    "\n",
    "Q3. Now we will apply ridge regression to this dataset, recall that ridge regression is defined as the solution to the optimisation:\n",
    "    \\begin{align*}\n",
    "        \\hat{\\beta} = \\arg\\min \\left \\{ \\frac{1}{2}\\|Y-X\\beta \\|^2_2 + \\lambda \\| \\beta\\|_2^2\\right \\}.\n",
    "    \\end{align*}\n",
    "    Run ridge regression with $\\lambda = \\{0.01,0.1,0.5,1,1.5, 2,5,10, 20, 30,50, 100, 200, 300\\}$. Create a plot with $x$-axis representing $\\log(\\lambda)$, and $y$-axis representing the value of the coefficient for each feature in each of the fitted ridge models. In other words, the plot should describe what happens to each of the coefficients in your model for the different choices of $\\lambda$. For this problem you are permitted to use the \\texttt{sklearn} implementation of Ridge regressiom to run the models and extract the coefficients, and base matplotlib/numpy to create the plots but no other packages are to be used to generate this plot. In a few lines, comment on what you see, in particular what do you observe for features $3, 4, 5$?\n",
    "    \n",
    "Q4. Now, use Leave-One-Out Cross Validation (LOOCV) to find a good value of $\\lambda$ for the ridge problem. Create a  grid of $\\lambda$ values running from $0$ to $50$ in increments of $0.1$, so the grid would be: $0, 0.1, 0.2,\\dots, 50$. For each data point $i=1,\\dots, n$, run ridge with each $\\lambda$ value on the dataset with point $i$ removed, find $\\hat{\\beta}$, then get the leave-one-out error for predicting $Y_i$. Average the squared error over all $n$ choices of $i$. Plot the leave-one-out error against $\\lambda$ and find the best $\\lambda$ value. Compare your results to standard Ordinary Least Squares (OLS), does the ridge seem to give better prediction error based on your analysis? Note that for this question you are \\textbf{not} permitted to use any existing packages that implement cross validation, you must write the code yourself from scratch. You must create the plot yourself from scratch using basic matplotlib functionality.\n",
    "\n",
    "Q5. Repeat Q3 but for the LASSO\n",
    "\n",
    "Q6. Repeat Q4 but for the LASSO\n",
    "\n",
    "Q7. Comment on what you observe and which model you would prefer in a prediction problem. What about an inference problem?"
   ]
  },
  {
   "cell_type": "code",
   "execution_count": null,
   "metadata": {},
   "outputs": [],
   "source": []
  }
 ],
 "metadata": {
  "kernelspec": {
   "display_name": "Python 3 (ipykernel)",
   "language": "python",
   "name": "python3"
  },
  "language_info": {
   "codemirror_mode": {
    "name": "ipython",
    "version": 3
   },
   "file_extension": ".py",
   "mimetype": "text/x-python",
   "name": "python",
   "nbconvert_exporter": "python",
   "pygments_lexer": "ipython3",
   "version": "3.11.3"
  }
 },
 "nbformat": 4,
 "nbformat_minor": 2
}
